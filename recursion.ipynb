{
 "cells": [
  {
   "cell_type": "code",
   "execution_count": null,
   "id": "5aefa1c8-1e5a-4126-b694-9ce3cfe7c887",
   "metadata": {},
   "outputs": [],
   "source": [
    "# Explain the concept of recursion in Python. How does it differ from iteration?\n",
    "'''\n",
    "Recursion:\n",
    "Recursion is a technique where a function calls itself in order to solve a problem. In Python, a recursive \n",
    "function consists of a base case and a recursive case. The base case defines when the function should stop \n",
    "calling itself and return a value. The recursive case defines how the function calls itself with modified\n",
    "parameters to eventually reach the base case.\n",
    "\n",
    "\n",
    "Iteration\n",
    "Iteration involves repeatedly executing a set of instructions using loops like for or while. In iteration, \n",
    "the flow of control moves through a loop, and there's typically a condition to determine when the loop should \n",
    "stop.\n",
    "'''"
   ]
  },
  {
   "cell_type": "code",
   "execution_count": null,
   "id": "7c4a4a9f-a8ad-49f2-b8b5-52845ad804b5",
   "metadata": {},
   "outputs": [],
   "source": [
    "# Write a Python program to calculate the factorial of a number using recursion.\n",
    "# \n",
    "def factorial(n):\n",
    "    if n == 0:\n",
    "        return 1\n",
    "    else:\n",
    "        return n * factorial(n - 1)\n",
    "\n"
   ]
  },
  {
   "cell_type": "code",
   "execution_count": 12,
   "id": "92070d8b-1e10-48dd-813b-63bda76c1119",
   "metadata": {},
   "outputs": [
    {
     "name": "stdout",
     "output_type": "stream",
     "text": [
      "The 5th Fibonacci number is: 5\n"
     ]
    }
   ],
   "source": [
    "# Create a recursive Python function to find the nth Fibonacci number.\n",
    "# \n",
    "def fibonacci(n):\n",
    "    if n <= 1:\n",
    "        return n\n",
    "    else:\n",
    "        return fibonacci(n - 1) + fibonacci(n - 2)\n",
    "\n",
    "n=5\n",
    "print(f\"The {n}th Fibonacci number is:\", fibonacci(n))\n"
   ]
  },
  {
   "cell_type": "code",
   "execution_count": 12,
   "id": "3f206bf5-116b-44e9-8263-d8438e68db49",
   "metadata": {},
   "outputs": [
    {
     "data": {
      "text/plain": [
       "16"
      ]
     },
     "execution_count": 12,
     "metadata": {},
     "output_type": "execute_result"
    }
   ],
   "source": [
    "# Write a recursive Python function to calculate the sum of all elements in a list.\n",
    "# \n",
    "def sumOf(lst,size):\n",
    "   \n",
    "    if size==0:\n",
    "         return 0\n",
    "    else:\n",
    "         return lst[size-1] + sumOf(lst,size-1)\n",
    "\n",
    "\n",
    "# lt = [2,5,3,5,1]\n",
    "sumOf([2,5,3,5,1],5)        "
   ]
  },
  {
   "cell_type": "code",
   "execution_count": null,
   "id": "0e14fd30-4a5a-4888-b35c-5c4c8f8acda9",
   "metadata": {},
   "outputs": [],
   "source": [
    "# How can you prevent a recursive function from running indefinitely, causing a stack overflow error?\n",
    "# \n",
    "'''\n",
    "1-  Ensure that your recursive function has a base case that stops the recursion\n",
    "2-  By seting a maximum recursion depth or a maximum number of iterations\n",
    "'''"
   ]
  },
  {
   "cell_type": "code",
   "execution_count": 7,
   "id": "703e1ab4-d1d0-4b96-9799-cf0653c3d45e",
   "metadata": {},
   "outputs": [
    {
     "name": "stdin",
     "output_type": "stream",
     "text": [
      "Enter the Fisrt num 12\n",
      "Enter the Second num 8\n"
     ]
    },
    {
     "data": {
      "text/plain": [
       "4"
      ]
     },
     "execution_count": 7,
     "metadata": {},
     "output_type": "execute_result"
    }
   ],
   "source": [
    "# Create a recursive Python function to find the greatest common divisor (GCD) of two \n",
    "# numbers using the Euclidean algorithm\n",
    "# \n",
    "\n",
    "\n",
    "def checkMax(num1,num2):\n",
    "    if num2 == 0:\n",
    "        return num1\n",
    "    else:\n",
    "        return checkMax(num2, num1 % num2)\n",
    "\n",
    "num1 =int(input(\"Enter the Fisrt num\"))\n",
    "num2 =int(input(\"Enter the Second num\"))\n",
    "checkMax(num1,num2)    "
   ]
  },
  {
   "cell_type": "code",
   "execution_count": 8,
   "id": "a83e6f8f-74c1-4031-97f7-31ae48792e46",
   "metadata": {},
   "outputs": [
    {
     "name": "stdin",
     "output_type": "stream",
     "text": [
      "Write something:  hey Aditi\n"
     ]
    },
    {
     "data": {
      "text/plain": [
       "'itidA yeh'"
      ]
     },
     "execution_count": 8,
     "metadata": {},
     "output_type": "execute_result"
    }
   ],
   "source": [
    "# Write a recursive Python function to reverse a string.\n",
    "# \n",
    "str =input(\"Write something: \")\n",
    "\n",
    "def reverseStr(st):\n",
    "    if len(st) <=1:\n",
    "        return st\n",
    "    else:\n",
    "        return st[-1]+ reverseStr(st[:-1])\n",
    "reverseStr(str)    "
   ]
  },
  {
   "cell_type": "code",
   "execution_count": 10,
   "id": "fc115f94-1243-4002-aded-00bbb736376f",
   "metadata": {},
   "outputs": [
    {
     "data": {
      "text/plain": [
       "81"
      ]
     },
     "execution_count": 10,
     "metadata": {},
     "output_type": "execute_result"
    }
   ],
   "source": [
    "# Create a recursive Python function to calculate the power of a number (x^n)\n",
    "# \n",
    "def power(x,n):\n",
    "    if n==0:\n",
    "        return 1\n",
    "    elif n < 0:\n",
    "        return 1 / power(x, -n)\n",
    "    else:\n",
    "        return x * power(x, n - 1)\n",
    "power(3,4)   "
   ]
  },
  {
   "cell_type": "code",
   "execution_count": 14,
   "id": "52eaedb9-77a1-43a3-88f5-c7e9ebb5cd52",
   "metadata": {},
   "outputs": [
    {
     "data": {
      "text/plain": [
       "['abc', 'acb', 'bac', 'bca', 'cab', 'cba']"
      ]
     },
     "execution_count": 14,
     "metadata": {},
     "output_type": "execute_result"
    }
   ],
   "source": [
    "# Write a recursive Python function to find all permutations of a given string.\n",
    "# \n",
    "def permu(str):\n",
    "    if len(str)==1:\n",
    "        return [str]\n",
    "    result =[]\n",
    "    for i in range(len(str)):\n",
    "        first_char = str[i]\n",
    "        remaining_chars = str[:i] + str[i+1:]\n",
    "        \n",
    "        sub_permutations = permu(remaining_chars)\n",
    "        \n",
    "        for perm in sub_permutations:\n",
    "            result.append(first_char + perm)\n",
    "    return result  \n",
    "permu(\"abc\")"
   ]
  },
  {
   "cell_type": "code",
   "execution_count": 13,
   "id": "4b4114ac-d929-4f7b-957a-2f0d44b61812",
   "metadata": {},
   "outputs": [
    {
     "name": "stdout",
     "output_type": "stream",
     "text": [
      "['hey baiju yadav']\n"
     ]
    }
   ],
   "source": [
    "str = \"hey baiju yadav\"\n",
    "\n",
    "len(str)==1\n",
    "print( [str])"
   ]
  },
  {
   "cell_type": "code",
   "execution_count": 15,
   "id": "0f1748c4-2cc9-4532-a504-6d4b6e2a5e63",
   "metadata": {},
   "outputs": [
    {
     "name": "stdout",
     "output_type": "stream",
     "text": [
      "True\n",
      "False\n"
     ]
    }
   ],
   "source": [
    "# . Write a recursive Python function to check if a string is a palindrome\n",
    "# \n",
    "def is_palindrome(s):\n",
    "    s = s.lower() \n",
    "    if len(s) <= 1:\n",
    "        return True\n",
    "    elif s[0] != s[-1]:\n",
    "        return False\n",
    "    else:\n",
    "        return is_palindrome(s[1:-1])\n",
    "\n",
    "\n",
    "print(is_palindrome(\"racecar\"))  \n",
    "print(is_palindrome(\"hello\"))   \n"
   ]
  },
  {
   "cell_type": "code",
   "execution_count": 33,
   "id": "ebe27103-3ffc-4197-8203-1bdff0770efc",
   "metadata": {},
   "outputs": [
    {
     "name": "stdout",
     "output_type": "stream",
     "text": [
      "[[]]\n"
     ]
    }
   ],
   "source": [
    "# . Create a recursive Python function to generate all possible combinations of a list of \n",
    "# elements.\n",
    "# \n",
    "# def generate_combinations(elements):\n",
    "#     if len(elements) == 0:\n",
    "#         return [[]]  \n",
    "#     else:\n",
    "#         first_element = elements[0]\n",
    "#         remaining_elements = elements[1:]\n",
    "#         sub_combinations = generate_combinations(remaining_elements)\n",
    "#         # all_combinations = []\n",
    "#         # for sub_combo in sub_combinations:\n",
    "#         #     all_combinations.append(sub_combo)\n",
    "#         #     all_combinations.append([first_element] + sub_combo)\n",
    "#         # return all_combinations\n",
    "#     return sub_combinations\n",
    "# # Example usage:\n",
    "# elements = [1, 2, 3]\n",
    "# print(generate_combinations(elements))\n",
    "\n"
   ]
  },
  {
   "cell_type": "code",
   "execution_count": 31,
   "id": "064d27a8-de28-4bb4-b5e3-1f7c54bb62fa",
   "metadata": {},
   "outputs": [
    {
     "ename": "NameError",
     "evalue": "name 'element' is not defined",
     "output_type": "error",
     "traceback": [
      "\u001b[0;31m---------------------------------------------------------------------------\u001b[0m",
      "\u001b[0;31mNameError\u001b[0m                                 Traceback (most recent call last)",
      "Cell \u001b[0;32mIn[31], line 1\u001b[0m\n\u001b[0;32m----> 1\u001b[0m \u001b[43melement\u001b[49m[\u001b[38;5;241m1\u001b[39m,\u001b[38;5;241m2\u001b[39m,\u001b[38;5;241m3\u001b[39m]\n\u001b[1;32m      2\u001b[0m all_combinations \u001b[38;5;241m=\u001b[39m[]\n\u001b[1;32m      3\u001b[0m first_element \u001b[38;5;241m=\u001b[39m elements[\u001b[38;5;241m0\u001b[39m]\n",
      "\u001b[0;31mNameError\u001b[0m: name 'element' is not defined"
     ]
    }
   ],
   "source": []
  },
  {
   "cell_type": "code",
   "execution_count": null,
   "id": "f18c31b2-6076-48a3-b16c-a55812940f9c",
   "metadata": {},
   "outputs": [],
   "source": []
  },
  {
   "cell_type": "code",
   "execution_count": null,
   "id": "2c6840ef-72fa-43f0-a251-e1351022545b",
   "metadata": {},
   "outputs": [],
   "source": []
  }
 ],
 "metadata": {
  "kernelspec": {
   "display_name": "Python 3 (ipykernel)",
   "language": "python",
   "name": "python3"
  },
  "language_info": {
   "codemirror_mode": {
    "name": "ipython",
    "version": 3
   },
   "file_extension": ".py",
   "mimetype": "text/x-python",
   "name": "python",
   "nbconvert_exporter": "python",
   "pygments_lexer": "ipython3",
   "version": "3.10.8"
  }
 },
 "nbformat": 4,
 "nbformat_minor": 5
}
