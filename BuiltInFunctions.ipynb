{
 "cells": [
  {
   "cell_type": "code",
   "execution_count": null,
   "id": "588b36d1-da2f-4ffb-a6a6-1ac314a6a721",
   "metadata": {},
   "outputs": [],
   "source": [
    "# Describe the role of built-in functions like `len()`, `max()`, and `min()` in Python.\n",
    "'''\n",
    "len() function is used to find the length of the string,list, tuple...\n",
    "min() function is used to find the minmum value of the list, tuple,set\n",
    "max() function is used to find the maxmum value of the list, tuple,set\n",
    "'''\n"
   ]
  },
  {
   "cell_type": "code",
   "execution_count": 2,
   "id": "c2ca82d6-d409-436a-8eee-3536b42eeee9",
   "metadata": {},
   "outputs": [
    {
     "data": {
      "text/plain": [
       "[5, 6, 5, 4, 7]"
      ]
     },
     "execution_count": 2,
     "metadata": {},
     "output_type": "execute_result"
    }
   ],
   "source": [
    "# Write a Python program that uses the `map()` function to apply a function to each element of a list.\n",
    "li =[2,3,2,1,4]\n",
    "list(map(lambda a:a+3,li))"
   ]
  },
  {
   "cell_type": "code",
   "execution_count": null,
   "id": "c154576e-424a-480c-804f-e42b5dbf146e",
   "metadata": {},
   "outputs": [],
   "source": [
    "# How does the `filter()` function work in Python, and when would you use it?\n",
    "# The filter() method creates a new array filled with elements that pass a test provided by a function\n",
    "# we will use when there is some condition to perforn on the elements which satisfies the following condotion."
   ]
  },
  {
   "cell_type": "code",
   "execution_count": 3,
   "id": "fbd80784-ea3d-4f14-b7f7-0e2d5ef742d1",
   "metadata": {},
   "outputs": [
    {
     "data": {
      "text/plain": [
       "756"
      ]
     },
     "execution_count": 3,
     "metadata": {},
     "output_type": "execute_result"
    }
   ],
   "source": [
    "# Create a Python program that uses the `reduce()` function to find the product of all elements in a list.\n",
    "li=[3,7,1,9,4]\n",
    "from functools import reduce\n",
    "a= reduce(lambda a,b:a*b,li)\n",
    "a"
   ]
  },
  {
   "cell_type": "code",
   "execution_count": null,
   "id": "ba0f3a1a-0607-4646-b2af-199cb140d00a",
   "metadata": {},
   "outputs": [],
   "source": [
    "# ***********************************************************************************\n",
    "# Function Documentation and Best Practices:\n"
   ]
  },
  {
   "cell_type": "code",
   "execution_count": null,
   "id": "836087e1-7db0-4de3-a965-3332cc3d08a9",
   "metadata": {},
   "outputs": [],
   "source": [
    "# Describe some best practices for naming functions and variables in Python, \n",
    "# including naming conventions and guidelines\n",
    "\"\"\"\n",
    "Naming functions and variables in Python is crucial for writing clear, readable, and maintainable code. \n",
    "Here are some best practices along with naming conventions and guidelines:\n",
    "Use snake_case for functions and variables:\n",
    "Follow PEP 8\n",
    "Use verbs for function names:\n",
    "Use descriptive names\n",
    "\"\"\""
   ]
  },
  {
   "cell_type": "code",
   "execution_count": null,
   "id": "0b007b2a-dd1a-46e4-ab9f-166d4a7fec77",
   "metadata": {},
   "outputs": [],
   "source": [
    "# Explain the purpose of docstrings in Python functions and how to write them.\n",
    "'''\n",
    "Docstrings in Python functions serve the purpose of documenting the functionality of the function,\n",
    "its parameters, return values, and any other relevant information.\n",
    " \n",
    " For writing of docstings just below the function deceleration within triple single quote or triple double Quote\n",
    "'''"
   ]
  },
  {
   "cell_type": "code",
   "execution_count": null,
   "id": "04ebe55b-8d50-46ce-ba1e-7089eaa20dc5",
   "metadata": {},
   "outputs": [],
   "source": [
    "# # ****************************************************************************************\n",
    "# Return Values and Scoping:\n",
    "# ***************************************************************************************\n"
   ]
  },
  {
   "cell_type": "code",
   "execution_count": null,
   "id": "d6271ab8-ad75-4e7e-a3fc-15ac5414deab",
   "metadata": {},
   "outputs": [],
   "source": [
    "# Describe the role of the `return` statement in Python functions and provide examples.\n",
    "# \n",
    "#  return statement is used within a function to specify the value that the function should return when it's called. \n",
    "# It serves the purpose of exiting the function and returning a result to the caller."
   ]
  },
  {
   "cell_type": "code",
   "execution_count": null,
   "id": "9abd5edf-d386-44fd-a066-78111cbd26d3",
   "metadata": {},
   "outputs": [],
   "source": [
    "# Explain the concept of variable scope in Python, including local and global variables.\n",
    "# \n",
    "# Variable scope in Python refers to the visibility and accessibility of variables within different parts of a program\n",
    "'''Local Variables:\n",
    "Local variables are defined within a function and can only be accessed within that function.\n",
    "They are created when the function is called and destroyed when the function exits.\n",
    "Local variables cannot be accessed from outside the function in which they are defined.\n",
    "If a variable is assigned a value within a function without being declared as global, Python assumes it is a local variable.\n",
    "\n",
    "Global Variables:\n",
    "Global variables are defined outside of any function and can be accessed and modified by any part of the program.\n",
    "They are created when the program starts and persist until the program terminates.\n",
    "Global variables can be accessed and modified from any function, but if you want to modify a global variable inside a function, you need to explicitly declare it as global using the global keyword.\n",
    "'''"
   ]
  },
  {
   "cell_type": "code",
   "execution_count": 4,
   "id": "f2b795d7-c40d-4e5f-a2e2-0b7adc577f3e",
   "metadata": {},
   "outputs": [
    {
     "name": "stdout",
     "output_type": "stream",
     "text": [
      "Inside outer_function: 60\n",
      "Inside inner_function: 70\n",
      "After inner_function: 60\n",
      "Outside outer_function: 50\n"
     ]
    }
   ],
   "source": [
    "# Write a Python program that demonstrates the use of global variables within functions\n",
    "\n",
    "z = 50  # global variable\n",
    "\n",
    "def outer_function():\n",
    "    z = 60  \n",
    "    print(\"Inside outer_function:\", z)\n",
    "\n",
    "    def inner_function():\n",
    "        z = 70  # local variable\n",
    "        print(\"Inside inner_function:\", z)\n",
    "\n",
    "    inner_function()\n",
    "    print(\"After inner_function:\", z)\n",
    "\n",
    "outer_function()\n",
    "print(\"Outside outer_function:\", z)\n"
   ]
  },
  {
   "cell_type": "code",
   "execution_count": 6,
   "id": "6dca17de-e672-40cf-9317-8ab359e5e40e",
   "metadata": {},
   "outputs": [
    {
     "data": {
      "text/plain": [
       "24"
      ]
     },
     "execution_count": 6,
     "metadata": {},
     "output_type": "execute_result"
    }
   ],
   "source": [
    "# Create a Python function that calculates the factorial of a number and returns it\n",
    "# \n",
    "def factorialNum(n):\n",
    "    if n<=1:\n",
    "        return n\n",
    "    else:\n",
    "        return n*factorialNum(n-1)\n",
    "factorialNum(4)    "
   ]
  },
  {
   "cell_type": "code",
   "execution_count": null,
   "id": "8e922bd4-4197-4696-8e4a-f16dad03e67a",
   "metadata": {},
   "outputs": [],
   "source": [
    "# How can you access variables defined outside a function from within the function?\n",
    "# \n",
    "'''\n",
    "To access variables defined outside a function from within the function in Python, you can use the\n",
    "(global) keyword to declare the variable as global within the function. \n",
    "This allows you to both read and modify the value of the global variable from within the function.\n",
    "'''"
   ]
  },
  {
   "cell_type": "code",
   "execution_count": null,
   "id": "ec0db48d-28d4-4210-abd8-03cfdaf9f109",
   "metadata": {},
   "outputs": [],
   "source": [
    "# ***********************************************************************************\n",
    "# Function Parameters and Arguments:\n",
    "# ***********************************************************************************\n"
   ]
  },
  {
   "cell_type": "code",
   "execution_count": 7,
   "id": "101b4866-bf30-4a0e-9dea-0407000d068c",
   "metadata": {},
   "outputs": [
    {
     "name": "stdout",
     "output_type": "stream",
     "text": [
      "Hello, Alice\n"
     ]
    }
   ],
   "source": [
    "# Explain the concepts of formal parameters and actual arguments in Python functions.\n",
    "# \n",
    "def greet(name):  # 'name' is the formal parameter\n",
    "    print(\"Hello,\", name)\n",
    "\n",
    "greet(\"Alice\")  # \"Alice\" is the actual argument passed to the function\n"
   ]
  },
  {
   "cell_type": "code",
   "execution_count": 9,
   "id": "9943e16e-1a30-4045-a273-a564d0f37f26",
   "metadata": {},
   "outputs": [
    {
     "data": {
      "text/plain": [
       "(34, 56, 6)"
      ]
     },
     "execution_count": 9,
     "metadata": {},
     "output_type": "execute_result"
    }
   ],
   "source": [
    "# Write a Python program that defines a function with default argument values.\n",
    "# \n",
    "def sum(c,a=34,b=56): #a and b is default argument \n",
    "    return (a,b,c)\n",
    "sum(6)"
   ]
  },
  {
   "cell_type": "code",
   "execution_count": null,
   "id": "3dc0bf5a-c310-497a-b638-9f13de676b46",
   "metadata": {},
   "outputs": [],
   "source": [
    "# How do you use keyword arguments in Python function calls? Provide an example.\n",
    "# \n",
    "def greet(name, message):\n",
    "    \"\"\"\n",
    "    Function to greet a person with a custom message.\n",
    "    \"\"\"\n",
    "    print(f\"Hello, {name}! {message}\")\n",
    "\n",
    "# Using positional arguments\n",
    "greet(\"Aditi\", \"How are you?\")\n",
    "\n",
    "# Using keyword arguments\n",
    "greet(name=\"Manisha\", message=\"Nice to meet you!\")\n",
    "\n",
    "# Mixing positional and keyword arguments\n",
    "greet(\"Baiju\", message=\"Have a great day!\")\n"
   ]
  },
  {
   "cell_type": "code",
   "execution_count": 13,
   "id": "c825f61d-18d3-4dc7-a4b9-98cc7a3188f7",
   "metadata": {},
   "outputs": [
    {
     "data": {
      "text/plain": [
       "15"
      ]
     },
     "execution_count": 13,
     "metadata": {},
     "output_type": "execute_result"
    }
   ],
   "source": [
    "# Create a Python function that accepts a variable number of arguments and calculates their sum.\n",
    "def takeNum(*take):\n",
    "    total = 0\n",
    "    for num in take:\n",
    "        total += num\n",
    "    return total\n",
    "takeNum(4,2,8,1)"
   ]
  },
  {
   "cell_type": "code",
   "execution_count": null,
   "id": "c48796e7-6531-49bd-8f3f-d7331880d826",
   "metadata": {},
   "outputs": [],
   "source": [
    "# What is the purpose of the `*args` and `**kwargs` syntax in function parameter lists?\n",
    "# \n",
    "'''\n",
    "*args:\n",
    "\n",
    "The *args syntax allows a function to accept any number of positional arguments.\n",
    "It collects these arguments into a tuple, which can then be iterated over or processed within the function.\n",
    "This is useful when you want to create functions that can accept a variable number of arguments without having \n",
    "to define them explicitly.\n",
    "\n",
    "\n",
    "**kwargs:\n",
    "\n",
    "The **kwargs syntax allows a function to accept any number of keyword arguments.\n",
    "It collects these arguments into a dictionary, where the keys are the parameter names and the values are\n",
    "the corresponding argument values.\n",
    "This is useful when you want to create functions that can accept optional arguments with default values or\n",
    "when you want to pass a variable number of keyword arguments.\n",
    "'''"
   ]
  },
  {
   "cell_type": "code",
   "execution_count": null,
   "id": "141910ba-8852-4737-b969-871658a47c55",
   "metadata": {},
   "outputs": [],
   "source": [
    "# ***********************************************************************************\n",
    "# Basics of Functions:\n",
    "# ***********************************************************************************\n"
   ]
  },
  {
   "cell_type": "code",
   "execution_count": null,
   "id": "d14e802c-f65f-4d5b-8ba4-3df54d00583d",
   "metadata": {},
   "outputs": [],
   "source": [
    "# What is a function in Python, and why is it used?\n",
    "# \n",
    "#  functions are the program that are written after def in python and that pice of code can be used mulitiple times\n",
    "# to use one program over and over we writen function"
   ]
  },
  {
   "cell_type": "code",
   "execution_count": null,
   "id": "c34b8699-b2ec-4ed6-a52a-2d028b0ada57",
   "metadata": {},
   "outputs": [],
   "source": [
    "# How do you define a function in Python? Provide an example.\n",
    "# \n",
    "# to use one program over and over we writen function\n",
    "def greet(name): \n",
    "    print(\"Hello,\", name)\n",
    "\n",
    "greet(\"Alice\") \n"
   ]
  },
  {
   "cell_type": "code",
   "execution_count": 14,
   "id": "eedae007-28f6-4c4c-9003-7b38f692af93",
   "metadata": {},
   "outputs": [
    {
     "name": "stdout",
     "output_type": "stream",
     "text": [
      "Hello, Alice\n"
     ]
    }
   ],
   "source": [
    "# Explain the difference between a function definition and a function call.\n",
    "# \n",
    "# A function definition is the process of creating a new function in Python\n",
    "# A function call is the process of executing or invoking a function that has \n",
    "# been defined elsewhere in the program.\n",
    "def greet(name): #function definition\n",
    "    print(\"Hello,\", name)\n",
    "\n",
    "greet(\"Alice\") # function call"
   ]
  },
  {
   "cell_type": "code",
   "execution_count": 15,
   "id": "f74b35ab-65bc-41e9-adc6-315a83a3b3fc",
   "metadata": {},
   "outputs": [
    {
     "data": {
      "text/plain": [
       "8"
      ]
     },
     "execution_count": 15,
     "metadata": {},
     "output_type": "execute_result"
    }
   ],
   "source": [
    "# Write a Python program that defines a function to calculate the sum of two numbers and then calls the function.\n",
    "def sumTwo(a,b):\n",
    "    return a+b\n",
    "sumTwo(3,5)"
   ]
  },
  {
   "cell_type": "code",
   "execution_count": null,
   "id": "802693f8-7759-4b6c-948b-6f0d14db3405",
   "metadata": {},
   "outputs": [],
   "source": []
  }
 ],
 "metadata": {
  "kernelspec": {
   "display_name": "Python 3 (ipykernel)",
   "language": "python",
   "name": "python3"
  },
  "language_info": {
   "codemirror_mode": {
    "name": "ipython",
    "version": 3
   },
   "file_extension": ".py",
   "mimetype": "text/x-python",
   "name": "python",
   "nbconvert_exporter": "python",
   "pygments_lexer": "ipython3",
   "version": "3.10.8"
  }
 },
 "nbformat": 4,
 "nbformat_minor": 5
}
