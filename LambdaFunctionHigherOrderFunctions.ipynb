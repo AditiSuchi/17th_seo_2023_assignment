{
 "cells": [
  {
   "cell_type": "code",
   "execution_count": 1,
   "id": "fe7867c5-fb46-490f-ba8a-0ccc0e5c22cd",
   "metadata": {},
   "outputs": [],
   "source": [
    "# What are lambda functions in Python, and when are they typically used?\n",
    "# \n",
    "# Ans- Lambda function are those function which have no name and identifier.\n",
    "# A lambda function can take any number of arguments, but can only have one expression.\n",
    "#  They are use to write code in one line which reduse the code line.\n",
    "#  and also use for performaning in line function.\n"
   ]
  },
  {
   "cell_type": "code",
   "execution_count": 2,
   "id": "00b9bd96-d0d8-4cc4-af0d-56d77b58b78d",
   "metadata": {},
   "outputs": [
    {
     "name": "stdout",
     "output_type": "stream",
     "text": [
      "[('Baiju', 20), ('Shivani', 20), ('Aditi', 21), ('Manisha', 22), ('Raunka', 23), ('Nisha', 24)]\n"
     ]
    }
   ],
   "source": [
    "# Write a Python program that uses lambda functions to sort a list of tuples based on the second element.\n",
    "# \n",
    "frnd =[('Aditi',21),('Baiju',20),('Manisha',22),('Raunka',23),('Shivani',20),('Nisha',24)]\n",
    "frnd.sort(key=lambda x: x[1])\n",
    "print(frnd)"
   ]
  },
  {
   "cell_type": "code",
   "execution_count": 3,
   "id": "c78cff7d-c092-475a-976c-beaf0e77db1b",
   "metadata": {},
   "outputs": [
    {
     "name": "stdout",
     "output_type": "stream",
     "text": [
      "tHIS IS aDITI\n",
      "hELLO\n"
     ]
    }
   ],
   "source": [
    "# Explain the concept of higher-order functions in Python, and provide an example.\n",
    "# \n",
    "# A function is called Higher Order Function if it contains other functions as a parameter or \n",
    "# returns a function as an output\n",
    "def demo(mystr):\n",
    "   return mystr.swapcase() \n",
    "print(demo('This is Aditi'))\n",
    "sample = demo\n",
    "print(sample('Hello'))\n"
   ]
  },
  {
   "cell_type": "code",
   "execution_count": 2,
   "id": "d5f94155-32e1-4619-bdc7-f582e26d84e8",
   "metadata": {},
   "outputs": [
    {
     "ename": "IndentationError",
     "evalue": "unexpected indent (1841762853.py, line 15)",
     "output_type": "error",
     "traceback": [
      "\u001b[0;36m  Cell \u001b[0;32mIn[2], line 15\u001b[0;36m\u001b[0m\n\u001b[0;31m    i=i++\u001b[0m\n\u001b[0m    ^\u001b[0m\n\u001b[0;31mIndentationError\u001b[0m\u001b[0;31m:\u001b[0m unexpected indent\n"
     ]
    }
   ],
   "source": [
    "# Create a Python function that takes a list of numbers and a function as arguments, applying the function to each element in the list.\n",
    "# \n",
    "lst =[]\n",
    "lenList =int(input(\"Enter the length of List:\"))\n",
    "for x in range(lenList):\n",
    "    num = int(input(\"Enter the number:\"))\n",
    "    lst.append(num)\n",
    "print(lst) \n",
    "y=[23,56,67,12]\n",
    "def addBy(x):\n",
    "     x=x+1\n",
    "            \n",
    "for i in lst:\n",
    "   addBy(lst[i]) \n",
    "    i=i++\n",
    "\n",
    "print(lst)"
   ]
  },
  {
   "cell_type": "code",
   "execution_count": null,
   "id": "6a02fd5a-8836-459e-92ad-ac05f3bc64da",
   "metadata": {},
   "outputs": [],
   "source": []
  }
 ],
 "metadata": {
  "kernelspec": {
   "display_name": "Python 3 (ipykernel)",
   "language": "python",
   "name": "python3"
  },
  "language_info": {
   "codemirror_mode": {
    "name": "ipython",
    "version": 3
   },
   "file_extension": ".py",
   "mimetype": "text/x-python",
   "name": "python",
   "nbconvert_exporter": "python",
   "pygments_lexer": "ipython3",
   "version": "3.10.8"
  }
 },
 "nbformat": 4,
 "nbformat_minor": 5
}
