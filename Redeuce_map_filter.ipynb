{
 "cells": [
  {
   "cell_type": "code",
   "execution_count": 1,
   "id": "7ff4e489-25f9-4ed4-935b-f5dafcdac0cf",
   "metadata": {},
   "outputs": [
    {
     "name": "stdout",
     "output_type": "stream",
     "text": [
      "[2, 4, 6, 8, 10]\n"
     ]
    }
   ],
   "source": [
    "# 1.\tExplain the purpose of the `filter()` function in Python and provide an example of how it can be used\n",
    "#       to filter elements from an iterable.\n",
    "# \n",
    "\"\"\"The filter() function in Python is used to filter elements from an iterable (like a list, tuple, or any other\n",
    "iterable) based on a given function, typically called the \"predicate\" function. The filter() function takes two\n",
    "arguments: the predicate function and the iterable. It returns an iterator that yields those items from the\n",
    "iterable for which the predicate function returns True.\"\"\"\n",
    "# Predicate function⬇️\n",
    "def is_even(num):\n",
    "    return num % 2 == 0\n",
    "numbers = [1, 2, 3, 4, 5, 6, 7, 8, 9, 10]\n",
    "even_numbers = filter(is_even, numbers)\n",
    "even_numbers_list = list(even_numbers)\n",
    "\n",
    "print(even_numbers_list) \n"
   ]
  },
  {
   "cell_type": "code",
   "execution_count": 2,
   "id": "48a68056-7618-4cef-8859-4cd59d9de6d8",
   "metadata": {},
   "outputs": [
    {
     "name": "stdout",
     "output_type": "stream",
     "text": [
      "[2, 4, 6, 8, 10]\n"
     ]
    }
   ],
   "source": [
    "# 2.\tWrite a Python program that uses the `filter()` function to select even numbers from a list of integers.\n",
    "def is_even(num):\n",
    "    return num % 2 == 0\n",
    "numbers = [1, 2, 3, 4, 5, 6, 7, 8, 9, 10]\n",
    "even_numbers = filter(is_even, numbers)\n",
    "even_numbers_list = list(even_numbers)\n",
    "\n",
    "print(even_numbers_list)"
   ]
  },
  {
   "cell_type": "code",
   "execution_count": null,
   "id": "4cc838cb-9a9d-4d64-a43c-6a72ae8391a8",
   "metadata": {},
   "outputs": [],
   "source": [
    "# 3.\tCreate a Python program that uses the `filter()` function to select names that start with a specific letter \n",
    "# from a list of strings\n",
    "\n",
    "# Predicate Function\n",
    "letter = input(\"Enter the letter which you wanna check for: \")\n",
    "\n",
    "def starts_with(letter,name):\n",
    "    if name[0]==letter:\n",
    "        return name\n",
    "        \n",
    "names =[\"Aditi\", \"Baiju\", \"Adi\", \"Adu\",\"Greats\",\"what\" ,\"why\"]\n",
    "checking_word = filter(lambda name:starts_with(letter,name),names)\n",
    "list_specific_words= list(checking_word)\n",
    "print(list_specific_words)"
   ]
  },
  {
   "cell_type": "code",
   "execution_count": null,
   "id": "9164ee22-d9e1-464c-8e59-e737fa2085ae",
   "metadata": {},
   "outputs": [],
   "source": [
    "# 4.\tWrite a Python program that uses the `filter()` function to select prime numbers from a list of integers.\n",
    "# \n",
    "def is_prime(n):\n",
    "    if n <= 1:\n",
    "        return False  \n",
    "    elif n <= 3:\n",
    "        return True  \n",
    "    elif n % 2 == 0 or n % 3 == 0:\n",
    "        return False \n",
    "    i = 5\n",
    "    while i * i <= n:\n",
    "        if n % i == 0 or n % (i + 2) == 0:\n",
    "            return False \n",
    "        i += 6\n",
    "    return True  \n",
    "numbers = [1, 2, 3, 4, 5, 6, 7, 8, 9, 10]\n",
    "prime_number= filter(is_prime,numbers)\n",
    "prime_number_list =list(prime_number)\n",
    "print(prime_number_list)"
   ]
  },
  {
   "cell_type": "code",
   "execution_count": null,
   "id": "6036eef5-7682-4317-8299-4ac3d6cb01ef",
   "metadata": {},
   "outputs": [],
   "source": [
    "# 5.\tHow can you use the `filter()` function to remove None values from a list in Python?\n",
    "# \n",
    "def find_none(x):\n",
    "    if x!=None:\n",
    "        return x\n",
    "values = [1, None, 3, None, 5, None, 7, None, 9]\n",
    "filterValues = filter(find_none,values)\n",
    "filtered_values_list = list(filterValues)\n",
    "\n",
    "\n",
    "print(\"List after removing None values:\", filtered_values_list)\n"
   ]
  },
  {
   "cell_type": "code",
   "execution_count": null,
   "id": "d2e64b9d-4036-404a-bba2-e8ec6628fec0",
   "metadata": {},
   "outputs": [],
   "source": [
    "# 6.\tCreate a Python program that uses `filter()` to select words longer than a certain length from a list of strings.\n",
    "# \n",
    "def select_word(x):\n",
    "    if len(x) <=5 :\n",
    "        return x\n",
    "names =[\"Aditi\", \"Baiju\", \"Adi\", \"Adu\",\"Greats\",\"what\" ,\"why\"]\n",
    "filter_word = filter( lambda x :select_word(x),names)\n",
    "filter_words_list = list(filter_word)\n",
    "print(filter_words_list)"
   ]
  },
  {
   "cell_type": "code",
   "execution_count": null,
   "id": "3f0c3769-5174-457b-ba2d-9e380892fbe7",
   "metadata": {},
   "outputs": [],
   "source": [
    "# ***********************************************************************\n",
    "# Reduce\n",
    "# ***********************************************************************\n"
   ]
  },
  {
   "cell_type": "code",
   "execution_count": null,
   "id": "2d8502a0-9122-4b52-8e9f-7ba24f7e7a0d",
   "metadata": {},
   "outputs": [],
   "source": [
    "# 1 Question\n",
    "'''\n",
    "The reduce() function in Python is used to apply a function of two arguments cumulatively to the items of an\n",
    "iterable, from left to right, so as to reduce the iterable to a single value. It's part of the functools module\n",
    "in Python, so you need to import this module to use the reduce() function.'''\n",
    "from functools import reduce\n",
    "\n",
    "\n",
    "numbers = [1, 2, 3, 4, 5]\n",
    "\n",
    "\n",
    "sum_of_numbers = reduce(lambda x, y: x + y, numbers)\n",
    "\n",
    "print(\"Sum of numbers:\", sum_of_numbers)\n"
   ]
  },
  {
   "cell_type": "code",
   "execution_count": null,
   "id": "8dcbe5fe-c070-4fe4-bf04-4196670a8dbe",
   "metadata": {},
   "outputs": [],
   "source": [
    "# 2.\tWrite a Python program that uses the `reduce()` function to find the product of all elements in a list.\n",
    "# \n",
    "from functools import reduce\n",
    "\n",
    "\n",
    "numbers = [1, 2, 3, 4, 5]\n",
    "\n",
    "\n",
    "mul_of_numbers = reduce(lambda x, y: x * y, numbers)\n",
    "\n",
    "print(\"Sum of numbers:\", mul_of_numbers)"
   ]
  },
  {
   "cell_type": "code",
   "execution_count": null,
   "id": "c6dcb688-42c2-4e57-b793-74820400f0f8",
   "metadata": {},
   "outputs": [],
   "source": [
    "# 3.\tCreate a Python program that uses `reduce()` to find the maximum element in a list of numbers.\n",
    "# \n",
    "from functools import reduce\n",
    "numbers = [1,3,4,2,6,8,2,1,0,7]\n",
    "max_num =reduce(lambda x,y:  max(x,y),numbers)\n",
    "print(\"Max  Num of list: \", max_num)"
   ]
  },
  {
   "cell_type": "code",
   "execution_count": null,
   "id": "8b08a431-101a-4919-ba2e-c1a89875b7ec",
   "metadata": {},
   "outputs": [],
   "source": [
    "# 4.\tHow can you use the `reduce()` function to concatenate a list of strings into a single string?\n",
    "from functools import reduce\n",
    "names =[\"Aditi\", \"Baiju\", \"Adi\", \"Adu\",\"Greats\",\"what\" ,\"why\"]\n",
    "\n",
    "result = reduce(lambda x,y: x+y,names)\n",
    "print(result)"
   ]
  },
  {
   "cell_type": "code",
   "execution_count": null,
   "id": "0bd25bec-f31b-4dac-bb50-ea7d63f4a5de",
   "metadata": {},
   "outputs": [],
   "source": [
    "# 5.\tWrite a Python program that calculates the factorial of a number using the `reduce()` function.\n",
    "# \n",
    "n int(input(\"Enter the number\"))\n",
    "reduce(lambda x, y: x * y, range(1, n + 1))\n"
   ]
  },
  {
   "cell_type": "code",
   "execution_count": null,
   "id": "4cc9b710-ffcc-4e53-a180-64b2cb621601",
   "metadata": {},
   "outputs": [],
   "source": [
    "# 6.\tCreate a Python program that uses `reduce()` to find the GCD (Greatest Common Divisor) of a list of numbers.\n",
    "# from functools import reduce\n",
    "import math\n",
    "\n",
    "def gcd(x, y):\n",
    "    return math.gcd(x, y)\n",
    "numbers = [24, 36, 48, 60]\n",
    "def gcd_of_list(numbers):\n",
    "    return reduce(gcd, numbers)\n",
    "\n"
   ]
  },
  {
   "cell_type": "code",
   "execution_count": null,
   "id": "a683d95a-3341-4cdd-8065-0204062d6e99",
   "metadata": {},
   "outputs": [],
   "source": [
    "# 7.\tWrite a Python program that uses the `reduce()` function to find the sum of the digits of a given number.\n",
    "\n",
    "from functools import reduce\n",
    "number=3465\n",
    "digits = str(number)\n",
    "    \n",
    "reduce(lambda x, y: int(x) + int(y), digits)"
   ]
  },
  {
   "cell_type": "code",
   "execution_count": null,
   "id": "068842f4-8692-46b1-a3bc-4bbb8b35d470",
   "metadata": {},
   "outputs": [],
   "source": [
    "# **************************************************************\n",
    "# MAP\n",
    "# *************************************************************"
   ]
  },
  {
   "cell_type": "code",
   "execution_count": null,
   "id": "2ad6b60f-e61d-48df-82eb-6ede55713a9f",
   "metadata": {},
   "outputs": [],
   "source": [
    "# 1.\tExplain the purpose of the `map()` function in Python and provide an example of how it can be used to\n",
    "# apply a function to each element of an iterable.\n",
    "'''\n",
    "The map() function in Python is used to apply a specified function to each item in an iterable (such as a list,\n",
    "tuple, or set) and returns a new iterable with the results. It takes two arguments: the function to apply and the \n",
    "iterable to apply it to.\n",
    "'''\n",
    "def square(x):\n",
    "    return x ** 2\n",
    "numbers = [1, 2, 3, 4, 5]\n",
    "squared_numbers = map(square, numbers)\n",
    "squared_numbers_list = list(squared_numbers)\n",
    "\n",
    "print(squared_numbers_list)  \n",
    "\n",
    "\n"
   ]
  },
  {
   "cell_type": "code",
   "execution_count": null,
   "id": "922112e1-28de-44fd-99de-05f52f5aaead",
   "metadata": {},
   "outputs": [],
   "source": [
    "# 2.\tWrite a Python program that uses the `map()` function to square each element of a list of numbers.\n",
    "# \n",
    "\n",
    "def square(x):\n",
    "    return x ** 2\n",
    "numbers = [1, 2, 3, 4, 5]\n",
    "squared_numbers = map(square, numbers)\n",
    "squared_numbers_list = list(squared_numbers)\n",
    "\n",
    "print(squared_numbers_list)  \n"
   ]
  },
  {
   "cell_type": "code",
   "execution_count": null,
   "id": "b2315623-d038-4f43-9ca0-ed7c11ebc6fd",
   "metadata": {},
   "outputs": [],
   "source": [
    "# 3.\tHow does the `map()` function differ from a list comprehension in Python, and when would you choose one over the other?\n",
    "# \n",
    "'''\n",
    "\n",
    "The map() function and list comprehensions in Python are both used to transform elements of an iterable by \n",
    "applying a function to each element. However, they differ in their syntax and use cases.\n",
    "In terms of performance, list comprehensions are often faster than using the map() function.\n",
    "if the transformation you're applying is simple and involves only applying a function to each element, map()\n",
    "can be a good choice. However, for more complex transformations or when readability is a priority, list \n",
    "comprehensions are often preferred\n",
    "'''\n"
   ]
  },
  {
   "cell_type": "code",
   "execution_count": null,
   "id": "9c532850-64e7-479c-b50f-af1e6d6e4ace",
   "metadata": {},
   "outputs": [],
   "source": [
    "# 4.\tCreate a Python program that uses the `map()` function to convert a list of names to uppercase.\n",
    "def in_uppercase(st):\n",
    "    return st.upper()\n",
    "names =[\"iti\", \"aiju\", \"Adi\", \"du\",\"Greats\",\"what\" ,\"why\"]\n",
    "uppercased_words =map(in_uppercase,names)\n",
    "uppercased_words_list =list(uppercased_words)\n",
    "print(uppercased_words_list)\n",
    "    "
   ]
  },
  {
   "cell_type": "code",
   "execution_count": null,
   "id": "396590a8-21c6-42df-920c-7a0967c4bb13",
   "metadata": {},
   "outputs": [],
   "source": [
    "# Write a Python program that uses the `map()` function to calculate the length of each word in a list of strings.\n",
    "# \n",
    "def len_words(st):\n",
    "    return len(st)\n",
    "names =[\"Aditi\", \"Baiju\", \"Adi\", \"Adu\",\"Greats\",\"what\" ,\"why\"]\n",
    "len_names = map(len_words,names)\n",
    "len_names_list =list(len_names)\n",
    "print(len_names_list)"
   ]
  },
  {
   "cell_type": "code",
   "execution_count": null,
   "id": "f13f5530-498c-4620-b36d-edd28a1004d7",
   "metadata": {},
   "outputs": [],
   "source": [
    "# 6.\tHow can you use the `map()` function to apply a custom function to elements of multiple lists simultaneously in Python?\n",
    "# \n",
    "\n",
    "def add_elements(x, y):\n",
    "    return x + y\n",
    "list1 = [1, 2, 3, 4, 5]\n",
    "list2 = [6, 7, 8, 9, 10]\n",
    "result = map(add_elements, list1, list2)\n",
    "result_list = list(result)\n",
    "\n",
    "print(result_list) \n"
   ]
  },
  {
   "cell_type": "code",
   "execution_count": null,
   "id": "e06de8e9-80cf-4410-89c9-78dec4ffdff6",
   "metadata": {},
   "outputs": [],
   "source": [
    "# 7.\tCreate a Python program that uses `map()` to convert a list of temperatures from Celsius to Fahrenheit.\n",
    "# \n",
    "\n",
    "def celsius_to_fahrenheit(celsius):\n",
    "    return (celsius * 9/5) + 32\n",
    "temperatures_celsius = [0, 10, 20, 30, 40]\n",
    "temperatures_fahrenheit = map(celsius_to_fahrenheit, temperatures_celsius)\n",
    "temperatures_fahrenheit_list = list(temperatures_fahrenheit)\n",
    "\n",
    "print(\"Temperatures in Fahrenheit:\", temperatures_fahrenheit_list)\n"
   ]
  },
  {
   "cell_type": "code",
   "execution_count": null,
   "id": "85bd7385-dd4c-4dd8-a7e7-a99ca4ec8953",
   "metadata": {},
   "outputs": [],
   "source": [
    "# 8.\tWrite a Python program that uses the `map()` function to round each element of a list of floating-point numbers to the nearest integer.\n",
    "# \n",
    "float_numbers = [3.14, 2.718, 1.618, 4.669, 6.626]\n",
    "rounded_numbers = map(round, float_numbers)\n",
    "rounded_numbers_list = list(rounded_numbers)\n",
    "\n",
    "print( rounded_numbers_list)\n"
   ]
  }
 ],
 "metadata": {
  "kernelspec": {
   "display_name": "Python 3 (ipykernel)",
   "language": "python",
   "name": "python3"
  },
  "language_info": {
   "codemirror_mode": {
    "name": "ipython",
    "version": 3
   },
   "file_extension": ".py",
   "mimetype": "text/x-python",
   "name": "python",
   "nbconvert_exporter": "python",
   "pygments_lexer": "ipython3",
   "version": "3.10.8"
  }
 },
 "nbformat": 4,
 "nbformat_minor": 5
}
