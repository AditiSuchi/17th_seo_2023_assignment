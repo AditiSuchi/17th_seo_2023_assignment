{
 "cells": [
  {
   "cell_type": "code",
   "execution_count": null,
   "id": "18d36a10-59a0-4720-a3ec-58ba2e299d60",
   "metadata": {},
   "outputs": [],
   "source": [
    "\n",
    "# 1.\tWrite a Python program to print numbers from 1 to 10 using a for loop\n",
    "# \n",
    "# Using a for loop to print numbers from 1 to 10\n",
    "for i in range(1, 11):\n",
    "    print(i)\n"
   ]
  },
  {
   "cell_type": "code",
   "execution_count": null,
   "id": "64f3e060-60ea-4bea-953a-456e08b141e9",
   "metadata": {},
   "outputs": [],
   "source": [
    "# 2.\tExplain the difference between a for loop and a while loop in Python.\n",
    "# \n",
    "'''\n",
    "\n",
    "1- For loop\n",
    "A for loop in Python is used to iterate over a sequence (such as a list, tuple, string, or range) or any iterable object.\n",
    "It executes a block of code repeatedly for each item in the sequence until the sequence is exhausted.\n",
    "The for loop iterates over the elements of the sequence directly, without the need for an index variable.\n",
    "It is typically used when the number of iterations is known or when you want to iterate over a predefined sequence of elements.\n",
    "\n",
    "2-While loop\n",
    "A while loop in Python is used to repeatedly execute a block of code as long as a specified condition evaluates to True.\n",
    "It continues to execute the code block until the condition becomes False.\n",
    "The condition is evaluated before each iteration of the loop. If the condition is True, the code block is executed; otherwise, the loop terminates.\n",
    "It is typically used when the number of iterations is not known in advance or when you want to iterate based on a condition.\n",
    "'''"
   ]
  },
  {
   "cell_type": "code",
   "execution_count": null,
   "id": "2fb881cd-bcff-4aea-b892-ae16834120e8",
   "metadata": {},
   "outputs": [],
   "source": [
    "# 3.\tWrite a Python program to calculate the sum of all numbers from 1 to 100 using a for loop\n",
    "# \n",
    "\n",
    "total_sum = 0\n",
    "for num in range(1, 101):\n",
    "    total_sum += num\n",
    "\n",
    "print(\"The sum of all numbers from 1 to 100 is:\", total_sum)\n"
   ]
  },
  {
   "cell_type": "code",
   "execution_count": null,
   "id": "5fd86ecd-26e8-467e-bf99-b53bc5519349",
   "metadata": {},
   "outputs": [],
   "source": [
    "# 4.\tHow do you iterate through a list using a for loop in Python?\n",
    "# \n",
    " # We can iterate through a list using a for loop by iterating over the elements of the list directly."
   ]
  },
  {
   "cell_type": "code",
   "execution_count": null,
   "id": "7dc8f29e-bdfe-4121-a192-d6e385617d16",
   "metadata": {},
   "outputs": [],
   "source": [
    "# 5.\tWrite a Python program to find the product of all elements in a list using a for loop\n",
    "# \n",
    "# List of numbers\n",
    "numbers = [2, 3, 4, 5, 6]\n",
    "product = 1\n",
    "for num in numbers:\n",
    "    product *= num\n",
    "\n",
    "\n",
    "print(\"The product of all elements in the list is:\", product)\n"
   ]
  },
  {
   "cell_type": "code",
   "execution_count": null,
   "id": "4ea8580d-3118-443d-a131-37d342f15343",
   "metadata": {},
   "outputs": [],
   "source": [
    "# 6.\tCreate a Python program that prints all even numbers from 1 to 20 using a for loop.\n",
    "# \n",
    "\n",
    "for num in range(2, 21, 2):\n",
    "    print(num)\n"
   ]
  },
  {
   "cell_type": "code",
   "execution_count": 7,
   "id": "79e087a9-56bd-4d2e-8e5f-c1a84fb19998",
   "metadata": {},
   "outputs": [
    {
     "name": "stdin",
     "output_type": "stream",
     "text": [
      "Enter a number to calculate its factorial:  5\n"
     ]
    },
    {
     "name": "stdout",
     "output_type": "stream",
     "text": [
      "120\n"
     ]
    }
   ],
   "source": [
    "# 7.\tWrite a Python program that calculates the factorial of a number using a for loop.\n",
    "# \n",
    "n = int(input(\"Enter a number to calculate its factorial: \"))\n",
    "result = 1\n",
    "   \n",
    "for i in range(1, n + 1):\n",
    "    result =result * i\n",
    "print(result)    "
   ]
  },
  {
   "cell_type": "code",
   "execution_count": null,
   "id": "a807a8ef-d9ab-4c93-9c6e-8c6a8951c611",
   "metadata": {},
   "outputs": [],
   "source": [
    "# 8.\tHow can you iterate through the characters of a string using a for loop in Python?\n",
    "# \n",
    "# String to iterate through\n",
    "my_string = \"Hello, World!\"\n",
    "\n",
    "# Using a for loop to iterate through the characters of the string\n",
    "for char in my_string:\n",
    "    print(char)\n"
   ]
  },
  {
   "cell_type": "code",
   "execution_count": 10,
   "id": "a7be4867-952a-410d-be29-d1b73f6ab043",
   "metadata": {},
   "outputs": [
    {
     "name": "stdout",
     "output_type": "stream",
     "text": [
      "The largest number in the list is: 50\n"
     ]
    }
   ],
   "source": [
    "# 9.\tWrite a Python program to find the largest number in a list using a for loop.\n",
    "# \n",
    "\n",
    "numbers = [10, 30, 20, 50, 40]\n",
    "\n",
    "largest_number = numbers[0]\n",
    "for num in numbers:\n",
    "    if num > largest_number:\n",
    "        largest_number = num\n",
    "\n",
    "print(\"The largest number in the list is:\", largest_number)\n"
   ]
  },
  {
   "cell_type": "code",
   "execution_count": 11,
   "id": "daa7316e-dfd9-4194-b53e-575190b4c3c3",
   "metadata": {},
   "outputs": [
    {
     "name": "stdin",
     "output_type": "stream",
     "text": [
      "Enter the limit for the Fibonacci sequence:  7\n"
     ]
    },
    {
     "name": "stdout",
     "output_type": "stream",
     "text": [
      "Fibonacci sequence up to 7 : [0, 1, 1, 2, 3, 5]\n"
     ]
    }
   ],
   "source": [
    "# 10.\tCreate a Python program that prints the Fibonacci sequence up to a specified limit using a for loop.\n",
    "# \n",
    "\n",
    "def fibonacci(limit):\n",
    "    fib_sequence = [0, 1]\n",
    "    for i in range(2, limit):\n",
    "        next_num = fib_sequence[-1] + fib_sequence[-2]\n",
    "        if next_num > limit:\n",
    "            break\n",
    "        fib_sequence.append(next_num)\n",
    "    \n",
    "    # Print the Fibonacci sequence\n",
    "    print(\"Fibonacci sequence up to\", limit, \":\", fib_sequence)\n",
    "\n",
    "\n",
    "limit = int(input(\"Enter the limit for the Fibonacci sequence: \"))\n",
    "\n",
    "fibonacci(limit)\n",
    "\n"
   ]
  },
  {
   "cell_type": "code",
   "execution_count": null,
   "id": "5eb60ff5-89e6-4f6c-9028-18e081aa2527",
   "metadata": {},
   "outputs": [],
   "source": [
    "# 11.\tWrite a Python program to count the number of vowels in a given string using a for loop.\n",
    "# \n",
    "def count_vowels(string):\n",
    "    vowels = 'aeiouAEIOU'\n",
    "    count = 0\n",
    "    for char in string:\n",
    "        if char in vowels:\n",
    "            count += 1\n",
    "    return count\n",
    "\n",
    "# Test the function\n",
    "input_string = input(\"Enter a string: \")\n",
    "num_vowels = count_vowels(input_string)\n",
    "print(\"Number of vowels in the string:\", num_vowels)\n"
   ]
  },
  {
   "cell_type": "code",
   "execution_count": 1,
   "id": "de23653a-83a8-451b-972e-58f61c605762",
   "metadata": {},
   "outputs": [
    {
     "name": "stdin",
     "output_type": "stream",
     "text": [
      "Enter a number to generate its multiplication table:  6\n"
     ]
    },
    {
     "name": "stdout",
     "output_type": "stream",
     "text": [
      "Multiplication Table for 6:\n",
      "6 x 1 = 6\n",
      "6 x 2 = 12\n",
      "6 x 3 = 18\n",
      "6 x 4 = 24\n",
      "6 x 5 = 30\n",
      "6 x 6 = 36\n",
      "6 x 7 = 42\n",
      "6 x 8 = 48\n",
      "6 x 9 = 54\n",
      "6 x 10 = 60\n"
     ]
    }
   ],
   "source": [
    "# 12.\tCreate a Python program that generates a multiplication table for a given number using a for loop.\n",
    "# \n",
    "def multiplication_table(number):\n",
    "    print(f\"Multiplication Table for {number}:\")\n",
    "    for i in range(1, 11):\n",
    "        print(f\"{number} x {i} = {number * i}\")\n",
    "\n",
    "\n",
    "input_number = int(input(\"Enter a number to generate its multiplication table: \"))\n",
    "multiplication_table(input_number)\n"
   ]
  },
  {
   "cell_type": "code",
   "execution_count": 20,
   "id": "86189086-24a8-4fa8-a13e-53aa09c10ebf",
   "metadata": {},
   "outputs": [
    {
     "name": "stdin",
     "output_type": "stream",
     "text": [
      "Enter elements of the list separated by spaces:  4 5\n"
     ]
    },
    {
     "name": "stdout",
     "output_type": "stream",
     "text": [
      "Reversed list: ['5', '4']\n"
     ]
    }
   ],
   "source": [
    "# 13.\tWrite a Python program to reverse a list using a for loop.\n",
    "# \n",
    "def reverse_list(lst):\n",
    "    reversed_lst = []\n",
    "    for i in range(len(lst)-1 , -1, -1):\n",
    "        reversed_lst.append(lst[i])\n",
    "    return reversed_lst\n",
    "\n",
    "# Test the function\n",
    "input_list = input(\"Enter elements of the list separated by spaces: \").split()\n",
    "reversed_list = reverse_list(input_list)\n",
    "print(\"Reversed list:\", reversed_list)\n",
    "\n",
    "\n",
    "\n"
   ]
  },
  {
   "cell_type": "code",
   "execution_count": 13,
   "id": "9c552dc6-418a-4ee2-bb66-3cdaff34a817",
   "metadata": {},
   "outputs": [
    {
     "name": "stdout",
     "output_type": "stream",
     "text": [
      "4\n",
      "8\n"
     ]
    }
   ],
   "source": [
    "# 14.\tWrite a Python program to find the common elements between two lists using a for loop.\n",
    "# \n",
    "list1 =[1,4,7,3,8]\n",
    "list2 =[2,9,5,4,8]\n",
    "for i in list1:\n",
    "    for j in list2:\n",
    "        if i==j:\n",
    "            print(i)\n"
   ]
  },
  {
   "cell_type": "code",
   "execution_count": 3,
   "id": "23f11d7a-51be-4ef8-8031-e0190d862389",
   "metadata": {},
   "outputs": [
    {
     "name": "stdout",
     "output_type": "stream",
     "text": [
      "Key: a, Value: 1\n",
      "Key: b, Value: 2\n",
      "Key: c, Value: 3\n"
     ]
    }
   ],
   "source": [
    "# 15.\tExplain how to use a for loop to iterate through the keys and values of a dictionary in Python.\n",
    "# \n",
    "\n",
    "my_dict = {'a': 1, 'b': 2, 'c': 3}\n",
    "\n",
    "# Iterate through keys and values\n",
    "for key, value in my_dict.items():\n",
    "    print(f\"Key: {key}, Value: {value}\")\n"
   ]
  },
  {
   "cell_type": "code",
   "execution_count": null,
   "id": "56c9130f-2386-4adc-a112-6ecc0861c03d",
   "metadata": {},
   "outputs": [],
   "source": [
    "# 16.\tWrite a Python program to find the GCD (Greatest Common Divisor) of two numbers using a for loop.\n",
    "# "
   ]
  },
  {
   "cell_type": "code",
   "execution_count": null,
   "id": "fbd23a2e-f7a5-445a-ab8b-18b307ac6536",
   "metadata": {},
   "outputs": [],
   "source": [
    "# 17.\tCreate a Python program that checks if a string is a palindrome using a for loop.\n",
    "# \n",
    "def is_palindrome(string):\n",
    "    clean_string = ''.join(char.lower() for char in string if char.isalnum())\n",
    "    for i in range(len(clean_string) // 2):\n",
    "        if clean_string[i] != clean_string[-i - 1]:\n",
    "            return False\n",
    "    return True\n",
    "input_string = input(\"Enter a string: \")\n",
    "if is_palindrome(input_string):\n",
    "    print(\"The string is a palindrome.\")\n",
    "else:\n",
    "    print(\"The string is not a palindrome.\")\n"
   ]
  },
  {
   "cell_type": "code",
   "execution_count": null,
   "id": "d74c9069-892c-4793-a444-8d48307b36e3",
   "metadata": {},
   "outputs": [],
   "source": [
    "# 18.\tWrite a Python program to remove duplicates from a list using a for loop.\n",
    "# \n",
    "def remove_duplicates(lst):\n",
    "    unique_list = []\n",
    "    for item in lst:\n",
    "        if item not in unique_list:\n",
    "            unique_list.append(item)\n",
    "    return unique_list\n",
    "\n",
    "# Test the function\n",
    "input_list = [1, 2, 3, 4, 2, 3, 5, 6, 7, 1]\n",
    "result_list = remove_duplicates(input_list)\n",
    "print(\"List after removing duplicates:\", result_list)\n"
   ]
  },
  {
   "cell_type": "code",
   "execution_count": 21,
   "id": "3d621187-2ccc-4956-a8d3-a7f137540f21",
   "metadata": {},
   "outputs": [
    {
     "data": {
      "text/plain": [
       "4"
      ]
     },
     "execution_count": 21,
     "metadata": {},
     "output_type": "execute_result"
    }
   ],
   "source": [
    "# 19.\tCreate a Python program that counts the number of words in a sentence using a for loop.\n",
    "# \n",
    "def count_sentence(sentence):\n",
    "    word_cout = 0\n",
    "    words_list = sentence.split()\n",
    "    for word in words_list:\n",
    "        word_cout+=1\n",
    "    return word_cout\n",
    "\n",
    "sen =\" hey this is Aditi\"\n",
    "count_sentence(sen)"
   ]
  },
  {
   "cell_type": "code",
   "execution_count": 27,
   "id": "9dc1b5e0-3c5d-492f-8ba1-5700d55a2d51",
   "metadata": {},
   "outputs": [
    {
     "name": "stdout",
     "output_type": "stream",
     "text": [
      "Sum of all odd numbers from 1 to 51:625\n"
     ]
    }
   ],
   "source": [
    "# 20.\tWrite a Python program to find the sum of all odd numbers from 1 to 50 using a for loop.\n",
    "# \n",
    "sum_of_odd_numbers = 0\n",
    "for number in range(1,51,2):\n",
    "      sum_of_odd_numbers += number\n",
    "a=1\n",
    "b=51\n",
    "        \n",
    "print(f\"Sum of all odd numbers from {a} to {b}:{sum_of_odd_numbers}\")"
   ]
  },
  {
   "cell_type": "code",
   "execution_count": 53,
   "id": "fafc2b93-4d90-4cc1-ae8b-63148da663e9",
   "metadata": {},
   "outputs": [
    {
     "name": "stdin",
     "output_type": "stream",
     "text": [
      "Enter a year:  2023\n"
     ]
    },
    {
     "name": "stdout",
     "output_type": "stream",
     "text": [
      "2023 is not a leap year.\n"
     ]
    }
   ],
   "source": [
    "# 21.\tWrite a Python program that checks if a given year is a leap year using a for loop.\n",
    "# \n",
    "def is_leap_year(year):\n",
    "    leap = False\n",
    "    for i in range(4, year + 1, 4):\n",
    "        if i == year:\n",
    "            leap = True\n",
    "            break\n",
    "    if leap:\n",
    "        return True\n",
    "    else:\n",
    "        return False\n",
    "\n",
    "# Test the function\n",
    "input_year = int(input(\"Enter a year: \"))\n",
    "if is_leap_year(input_year):\n",
    "    print(input_year, \"is a leap year.\")\n",
    "else:\n",
    "    print(input_year, \"is not a leap year.\")\n"
   ]
  },
  {
   "cell_type": "code",
   "execution_count": null,
   "id": "19c51eef-c457-4430-9f11-a6b5631265a4",
   "metadata": {},
   "outputs": [],
   "source": [
    "# 23.\tWrite a Python program to find the LCM (Least Common Multiple) of two numbers using a for loop\n",
    "# \n",
    "def is_leap_year(year):\n",
    "    leap = False\n",
    "    for i in range(4, year + 1, 4):\n",
    "        if i == year:\n",
    "            leap = True\n",
    "            break\n",
    "    if leap:\n",
    "        return True\n",
    "    else:\n",
    "        return False\n",
    "\n",
    "# Test the function\n",
    "input_year = int(input(\"Enter a year: \"))\n",
    "if is_leap_year(input_year):\n",
    "    print(input_year, \"is a leap year.\")\n",
    "else:\n",
    "    print(input_year, \"is not a leap year.\")\n"
   ]
  },
  {
   "cell_type": "code",
   "execution_count": null,
   "id": "55572b0a-1060-441e-9e56-ca6492c1ecff",
   "metadata": {},
   "outputs": [],
   "source": []
  }
 ],
 "metadata": {
  "kernelspec": {
   "display_name": "Python 3 (ipykernel)",
   "language": "python",
   "name": "python3"
  },
  "language_info": {
   "codemirror_mode": {
    "name": "ipython",
    "version": 3
   },
   "file_extension": ".py",
   "mimetype": "text/x-python",
   "name": "python",
   "nbconvert_exporter": "python",
   "pygments_lexer": "ipython3",
   "version": "3.10.8"
  }
 },
 "nbformat": 4,
 "nbformat_minor": 5
}
